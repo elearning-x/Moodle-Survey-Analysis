{
 "cells": [
  {
   "cell_type": "code",
   "execution_count": 8,
   "id": "4247d3b6-81ba-43ac-b530-3597dc5dfaf4",
   "metadata": {},
   "outputs": [
    {
     "data": {
      "application/vnd.jupyter.widget-view+json": {
       "model_id": "7a1065f69adb45d088d024807869d079",
       "version_major": 2,
       "version_minor": 0
      },
      "text/plain": [
       "HBox(children=(FileUpload(value=(), accept='*.csv', description='Moodle (.csv)', layout=Layout(width='200px'))…"
      ]
     },
     "metadata": {},
     "output_type": "display_data"
    },
    {
     "data": {
      "application/vnd.jupyter.widget-view+json": {
       "model_id": "8f375cf250a947758df429b5acec957f",
       "version_major": 2,
       "version_minor": 0
      },
      "text/plain": [
       "Output()"
      ]
     },
     "metadata": {},
     "output_type": "display_data"
    }
   ],
   "source": [
    "import os\n",
    "import ipywidgets as ipw\n",
    "from ipywidgets import Button\n",
    "from IPython.display import HTML\n",
    "from IPython.display import display\n",
    "from IPython.display import FileLink\n",
    "from IPython.display import IFrame\n",
    "\n",
    "from base64 import b64encode\n",
    "\n",
    "\n",
    "def on_upload_clicked(change):\n",
    "    global pdf_file\n",
    "    uploader.disabled = True\n",
    "    pdf_file = \"EEE3.pdf\"\n",
    "    btn.description = f\"Generate link to {pdf_file}\"\n",
    "    with out:\n",
    "        # display(FileLink(pdf_file, result_html_prefix=\"Click here to download: \"))\n",
    "        display(btn)\n",
    "        # IFrame(pdf_file, width=900, height=550)\n",
    "    uploader.disabled = False\n",
    "\n",
    "def download_data(e=None):\n",
    "    #ici lire le fichier pdf à envoyer en premier parametre\n",
    "    \"\"\"with open(f'files/{pdf_file}', 'rb') as f:\n",
    "        data = b64encode(f.read())\"\"\"\n",
    "      \n",
    "    with out:\n",
    "        # display(FileLink(pdf_file, result_html_prefix=\"Click here to download: \"))\n",
    "        link = f'<a href=\"{pdf_file}\" download=\"{pdf_file}\">Click here to download: {pdf_file}</a>'\n",
    "        display(HTML(link))\n",
    "\n",
    "\n",
    "pdf_file = ''\n",
    "\n",
    "uploader = ipw.FileUpload(\n",
    "    accept='*.csv',  # Accepted file extension e.g. '.txt', '.pdf', 'image/*', 'image/*,.pdf'\n",
    "    multiple=False,  # True to accept multiple files upload else False\n",
    "    description='Moodle (.csv)',\n",
    "    layout=ipw.Layout(width=\"200px\")\n",
    ")\n",
    "\n",
    "uploader.observe(on_upload_clicked, names='value')\n",
    "\n",
    "display(ipw.HBox([uploader])) \n",
    "out = ipw.Output()\n",
    "btn = Button(description=f'Download {pdf_file}', layout=ipw.Layout(width=\"300px\"))\n",
    "btn.on_click(download_data)\n",
    "display(out)\n"
   ]
  },
  {
   "cell_type": "code",
   "execution_count": null,
   "id": "b850e6cc-93dd-45c2-924b-3244105f357e",
   "metadata": {},
   "outputs": [],
   "source": []
  }
 ],
 "metadata": {
  "kernelspec": {
   "display_name": "Python 3 (ipykernel)",
   "language": "python",
   "name": "python3"
  },
  "language_info": {
   "codemirror_mode": {
    "name": "ipython",
    "version": 3
   },
   "file_extension": ".py",
   "mimetype": "text/x-python",
   "name": "python",
   "nbconvert_exporter": "python",
   "pygments_lexer": "ipython3",
   "version": "3.10.0"
  }
 },
 "nbformat": 4,
 "nbformat_minor": 5
}
